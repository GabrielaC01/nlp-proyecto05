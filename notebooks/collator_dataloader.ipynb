{
 "cells": [
  {
   "cell_type": "code",
   "execution_count": 1,
   "id": "d45204e7",
   "metadata": {},
   "outputs": [],
   "source": [
    "import sys\n",
    "sys.path.append(\"../\") "
   ]
  },
  {
   "cell_type": "code",
   "execution_count": 2,
   "id": "06d18681",
   "metadata": {},
   "outputs": [],
   "source": [
    "import json\n",
    "from transformers import AutoTokenizer\n",
    "from data.collator import CustomDataCollator"
   ]
  },
  {
   "cell_type": "code",
   "execution_count": 3,
   "id": "33b6b2cc",
   "metadata": {},
   "outputs": [],
   "source": [
    "# Cargar tokenizer\n",
    "tokenizer = AutoTokenizer.from_pretrained(\"gpt2\")\n",
    "tokenizer.pad_token = tokenizer.eos_token \n",
    "# Crear el collator\n",
    "collator = CustomDataCollator(tokenizer, mlm_probability=0.15, static_masking=False)"
   ]
  },
  {
   "cell_type": "code",
   "execution_count": 4,
   "metadata": {},
   "outputs": [
    {
     "name": "stdout",
     "output_type": "stream",
     "text": [
      "Input IDs:\n",
      " tensor([[ 3198,  1110,    11,  ...,  1123,   584, 50256],\n",
      "        [50256,   484,  5201,  ...,  7342, 50256, 50256],\n",
      "        [ 5667,  2121, 50256,  ...,   290,   531, 50256],\n",
      "        ...,\n",
      "        [  531, 50256,   366,  ...,  1266,  2460, 50256],\n",
      "        [   11,   257, 50256,  ...,   640,    11, 50256],\n",
      "        [  287,   257,  1263,  ..., 50256,   467,    11]])\n",
      "Labels:\n",
      " tensor([[-100, -100, -100,  ..., -100, -100,   13],\n",
      "        [2293, -100, -100,  ..., -100,  262, -100],\n",
      "        [-100, -100,  319,  ..., -100, -100, -100],\n",
      "        ...,\n",
      "        [-100,   11, -100,  ..., -100, -100, -100],\n",
      "        [-100, -100, 3797,  ..., -100, -100, -100],\n",
      "        [-100, -100, -100,  ..., 5045, -100, -100]])\n"
     ]
    }
   ],
   "source": [
    "# Leer algunos ejemplos desde el JSONL generado\n",
    "ruta = \"../data/train.jsonl\"\n",
    "ejemplos = []\n",
    "with open(ruta, \"r\", encoding=\"utf-8\") as f:\n",
    "    for i, linea in enumerate(f):\n",
    "        if i >= 8:\n",
    "            break\n",
    "        ejemplos.append(json.loads(linea))\n",
    "\n",
    "# Aplicar el collator a los ejemplos\n",
    "batch = collator(ejemplos)\n",
    "print(\"Input IDs:\\n\", batch[\"input_ids\"])\n",
    "print(\"Labels:\\n\", batch[\"labels\"])\n"
   ]
  },
  {
   "cell_type": "code",
   "execution_count": 5,
   "id": "6df8caf3",
   "metadata": {},
   "outputs": [],
   "source": [
    "from datasets import load_dataset\n",
    "from torch.utils.data import DataLoader"
   ]
  },
  {
   "cell_type": "code",
   "execution_count": 6,
   "id": "9a8f7d59",
   "metadata": {},
   "outputs": [
    {
     "name": "stdout",
     "output_type": "stream",
     "text": [
      "input_ids: torch.Size([4, 128])\n",
      "labels: torch.Size([4, 128])\n"
     ]
    }
   ],
   "source": [
    "# Dataset HuggingFace desde tu archivo JSONL\n",
    "dataset = load_dataset(\"json\", data_files=\"../data/train.jsonl\", split=\"train\")\n",
    "\n",
    "# Collator personalizado\n",
    "collator = CustomDataCollator(tokenizer, mlm_probability=0.15, static_masking=False)\n",
    "\n",
    "# DataLoader con batches\n",
    "loader = DataLoader(dataset, batch_size=4, shuffle=True, collate_fn=collator)\n",
    "\n",
    "# Verificar un lote\n",
    "batch = next(iter(loader))\n",
    "print(\"input_ids:\", batch[\"input_ids\"].shape)\n",
    "print(\"labels:\", batch[\"labels\"].shape)"
   ]
  }
 ],
 "metadata": {
  "kernelspec": {
   "display_name": ".venv",
   "language": "python",
   "name": "python3"
  },
  "language_info": {
   "codemirror_mode": {
    "name": "ipython",
    "version": 3
   },
   "file_extension": ".py",
   "mimetype": "text/x-python",
   "name": "python",
   "nbconvert_exporter": "python",
   "pygments_lexer": "ipython3",
   "version": "3.10.12"
  }
 },
 "nbformat": 4,
 "nbformat_minor": 5
}
