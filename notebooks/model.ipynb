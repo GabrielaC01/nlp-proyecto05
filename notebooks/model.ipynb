{
 "cells": [
  {
   "cell_type": "code",
   "execution_count": 1,
   "id": "b274f1cf",
   "metadata": {},
   "outputs": [],
   "source": [
    "import sys\n",
    "sys.path.append(\"../\") "
   ]
  },
  {
   "cell_type": "code",
   "execution_count": 2,
   "id": "ec8f943d",
   "metadata": {},
   "outputs": [],
   "source": [
    "import torch\n",
    "from transformers import AutoTokenizer\n",
    "from data.collator import CustomDataCollator\n",
    "from models.transformer_lm import MiniTransformerLM\n",
    "from datasets import load_dataset\n",
    "from torch.utils.data import DataLoader\n",
    "import torch.nn.functional as F"
   ]
  },
  {
   "cell_type": "code",
   "execution_count": 3,
   "id": "04b79120",
   "metadata": {},
   "outputs": [],
   "source": [
    "# Configuración\n",
    "device = \"cuda\" if torch.cuda.is_available() else \"cpu\"\n",
    "vocab_model = \"gpt2\"\n",
    "tokenizer = AutoTokenizer.from_pretrained(vocab_model)\n",
    "tokenizer.pad_token = tokenizer.eos_token"
   ]
  },
  {
   "cell_type": "code",
   "execution_count": 4,
   "id": "bbad62ac",
   "metadata": {},
   "outputs": [],
   "source": [
    "# Cargar dataset\n",
    "dataset = load_dataset(\"json\", data_files=\"../data/train.jsonl\", split=\"train\")\n",
    "collator = CustomDataCollator(tokenizer, mlm_probability=0.15)\n",
    "loader = DataLoader(dataset, batch_size=4, shuffle=True, collate_fn=collator)"
   ]
  },
  {
   "cell_type": "code",
   "execution_count": 5,
   "id": "932b0d6f",
   "metadata": {},
   "outputs": [],
   "source": [
    "# Tomar un batch\n",
    "batch = next(iter(loader))\n",
    "input_ids = batch[\"input_ids\"].to(device)\n",
    "attention_mask = batch[\"attention_mask\"].to(device)\n",
    "labels = batch[\"labels\"].to(device)"
   ]
  },
  {
   "cell_type": "code",
   "execution_count": 6,
   "id": "7c1480a3",
   "metadata": {},
   "outputs": [],
   "source": [
    "# Cargar modelo\n",
    "model = MiniTransformerLM(\n",
    "    vocab_size=tokenizer.vocab_size,\n",
    "    d_model=256,\n",
    "    n_heads=4,\n",
    "    n_layers=4,\n",
    "    max_len=input_ids.shape[1]\n",
    ").to(device)"
   ]
  },
  {
   "cell_type": "code",
   "execution_count": 9,
   "id": "94a12a40",
   "metadata": {},
   "outputs": [
    {
     "name": "stdout",
     "output_type": "stream",
     "text": [
      "Logits shape: torch.Size([4, 128, 50257])\n",
      "Loss: 10.966310501098633\n"
     ]
    }
   ],
   "source": [
    "# Forward pass\n",
    "logits = model(input_ids, attention_mask=attention_mask)\n",
    "print(\"Logits shape:\", logits.shape)  # (batch, seq_len, vocab_size)\n",
    "\n",
    "# Pérdida\n",
    "loss = F.cross_entropy(logits.view(-1, logits.size(-1)), labels.view(-1), ignore_index=-100)\n",
    "print(\"Loss:\", loss.item()) "
   ]
  }
 ],
 "metadata": {
  "kernelspec": {
   "display_name": ".venv",
   "language": "python",
   "name": "python3"
  },
  "language_info": {
   "codemirror_mode": {
    "name": "ipython",
    "version": 3
   },
   "file_extension": ".py",
   "mimetype": "text/x-python",
   "name": "python",
   "nbconvert_exporter": "python",
   "pygments_lexer": "ipython3",
   "version": "3.10.12"
  }
 },
 "nbformat": 4,
 "nbformat_minor": 5
}
