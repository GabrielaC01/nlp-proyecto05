{
 "cells": [
  {
   "cell_type": "code",
   "execution_count": 1,
   "id": "fc53c27f",
   "metadata": {},
   "outputs": [],
   "source": [
    "import sys\n",
    "sys.path.append(\"../\") "
   ]
  },
  {
   "cell_type": "code",
   "execution_count": 2,
   "id": "a1b82136",
   "metadata": {},
   "outputs": [],
   "source": [
    "from data.clean_corpus import cargar_texto, limpiar_texto, dividir_en_chunks, guardar_chunks\n",
    "from transformers import AutoTokenizer\n",
    "import matplotlib.pyplot as plt"
   ]
  },
  {
   "cell_type": "code",
   "execution_count": 3,
   "id": "ef74491f",
   "metadata": {},
   "outputs": [
    {
     "name": "stdout",
     "output_type": "stream",
     "text": [
      "Líneas cargadas: 13532737\n"
     ]
    }
   ],
   "source": [
    "ruta = \"../data/corpus.txt\"\n",
    "lineas = cargar_texto(ruta) \n",
    "print(f\"Líneas cargadas: {len(lineas)}\")"
   ]
  },
  {
   "cell_type": "code",
   "execution_count": 4,
   "id": "76637a31",
   "metadata": {},
   "outputs": [
    {
     "name": "stdout",
     "output_type": "stream",
     "text": [
      "Líneas limpias: 18097\n"
     ]
    }
   ],
   "source": [
    "# Se usa una parte del corpus\n",
    "lineas = cargar_texto(ruta, max_lineas=20000)  \n",
    "lineas_limpias = limpiar_texto(lineas)\n",
    "print(f\"Líneas limpias: {len(lineas_limpias)}\")"
   ]
  },
  {
   "cell_type": "code",
   "execution_count": 5,
   "id": "a9c4647a",
   "metadata": {},
   "outputs": [
    {
     "name": "stdout",
     "output_type": "stream",
     "text": [
      "Total de líneas: 18097\n",
      "Media tokens por línea: 32\n",
      "Máximo tokens en una línea: 292\n"
     ]
    }
   ],
   "source": [
    "tokenizer = AutoTokenizer.from_pretrained(\"gpt2\")\n",
    "longitudes = [len(tokenizer(l, add_special_tokens=False)[\"input_ids\"]) for l in lineas_limpias]\n",
    "\n",
    "print(\"Total de líneas:\", len(longitudes))\n",
    "print(\"Media tokens por línea:\", sum(longitudes) // len(longitudes))\n",
    "print(\"Máximo tokens en una línea:\", max(longitudes))\n"
   ]
  },
  {
   "cell_type": "code",
   "execution_count": 6,
   "id": "58b2287e",
   "metadata": {},
   "outputs": [
    {
     "name": "stderr",
     "output_type": "stream",
     "text": [
      "Token indices sequence length is longer than the specified maximum sequence length for this model (587394 > 1024). Running this sequence through the model will result in indexing errors\n"
     ]
    },
    {
     "name": "stdout",
     "output_type": "stream",
     "text": [
      "Número de fragmentos generados: 4589\n",
      "One day, a little girl named Lily found a needle in her room. She knew it was difficult to play with it because it was sharp. Lily wanted to share the needle with her mom, so she could sew a button on her shirt. Lily went to her mom and said, \"Mom, I found this needle. Can you share it with me and sew my shirt?\" Her mom smiled and said, \"Yes, Lily, we can share the needle and fix your shirt.\" Together, they shared the needle and sewed the button on Lily's shirt. It was not difficult for them because they were sharing and helping each other.\n"
     ]
    }
   ],
   "source": [
    "chunks = dividir_en_chunks(lineas_limpias, tamanio=128)\n",
    "print(f\"Número de fragmentos generados: {len(chunks)}\")\n",
    "print(chunks[0])"
   ]
  },
  {
   "cell_type": "code",
   "execution_count": 7,
   "id": "59196cfa",
   "metadata": {},
   "outputs": [
    {
     "name": "stdout",
     "output_type": "stream",
     "text": [
      "{\"text\": \"One day, a little girl named Lily found a needle in her room. She knew it was difficult to play with it because it was sharp. Lily wanted to share the needle with her mom, so she could sew a button on her shirt. Lily went to her mom and said, \\\"Mom, I found this needle. Can you share it with me and sew my shirt?\\\" Her mom smiled and said, \\\"Yes, Lily, we can share the needle and fix your shirt.\\\" Together, they shared the needle and sewed the button on Lily's shirt. It was not difficult for them because they were sharing and helping each other.\"}\n",
      "\n",
      "{\"text\": \" After they finished, Lily thanked her mom for sharing the needle and fixing her shirt. They both felt happy because they had shared and worked together.  Once upon a time, there was a little car named Beep. Beep loved to go fast and play in the sun. Beep was a healthy car because he always had good fuel. Good fuel made Beep happy and strong. One day, Beep was driving in the park when he saw a big tree. The tree had many leaves that were falling. Beep liked how the leaves fall and wanted to play with them. Beep drove under the tree and watched the\"}\n",
      "\n",
      "{\"text\": \" leaves fall on him. He laughed and beeped his horn. Beep played with the falling leaves all day. When it was time to go home, Beep knew he needed more fuel. He went to the fuel place and got more healthy fuel. Now, Beep was ready to go fast and play again the next day. And Beep lived happily ever after.  One day, a little fish named Fin was swimming near the shore. He saw a big crab and wanted to be friends. \\\"Hi, I am Fin. Do you want to play?\\\" asked the little fish. The crab looked at Fin and said\"}\n",
      "\n"
     ]
    }
   ],
   "source": [
    "guardar_chunks(chunks, \"../data/train.jsonl\")\n",
    "\n",
    "with open(\"../data/train.jsonl\", \"r\", encoding=\"utf-8\") as f:\n",
    "    for _ in range(3):\n",
    "        print(f.readline())\n"
   ]
  }
 ],
 "metadata": {
  "kernelspec": {
   "display_name": ".venv",
   "language": "python",
   "name": "python3"
  },
  "language_info": {
   "codemirror_mode": {
    "name": "ipython",
    "version": 3
   },
   "file_extension": ".py",
   "mimetype": "text/x-python",
   "name": "python",
   "nbconvert_exporter": "python",
   "pygments_lexer": "ipython3",
   "version": "3.10.12"
  }
 },
 "nbformat": 4,
 "nbformat_minor": 5
}
