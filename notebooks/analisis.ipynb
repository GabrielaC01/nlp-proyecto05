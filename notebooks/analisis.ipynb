{
 "cells": [
  {
   "cell_type": "code",
   "execution_count": 1,
   "id": "0dd3b4f3",
   "metadata": {},
   "outputs": [],
   "source": [
    "import sys\n",
    "sys.path.append(\"../\") "
   ]
  },
  {
   "cell_type": "code",
   "execution_count": 6,
   "id": "5d5b7b30",
   "metadata": {},
   "outputs": [],
   "source": [
    "import torch\n",
    "from transformers import AutoTokenizer\n",
    "from models.transformer_lm import MiniTransformerLM\n",
    "import random\n",
    "import os"
   ]
  },
  {
   "cell_type": "code",
   "execution_count": 8,
   "id": "de93dc7f",
   "metadata": {},
   "outputs": [
    {
     "data": {
      "text/plain": [
       "MiniTransformerLM(\n",
       "  (token_emb): Embedding(50257, 256)\n",
       "  (pos_emb): Embedding(128, 256)\n",
       "  (transformer): TransformerEncoder(\n",
       "    (layers): ModuleList(\n",
       "      (0-3): 4 x TransformerEncoderLayer(\n",
       "        (self_attn): MultiheadAttention(\n",
       "          (out_proj): NonDynamicallyQuantizableLinear(in_features=256, out_features=256, bias=True)\n",
       "        )\n",
       "        (linear1): Linear(in_features=256, out_features=1024, bias=True)\n",
       "        (dropout): Dropout(p=0.1, inplace=False)\n",
       "        (linear2): Linear(in_features=1024, out_features=256, bias=True)\n",
       "        (norm1): LayerNorm((256,), eps=1e-05, elementwise_affine=True)\n",
       "        (norm2): LayerNorm((256,), eps=1e-05, elementwise_affine=True)\n",
       "        (dropout1): Dropout(p=0.1, inplace=False)\n",
       "        (dropout2): Dropout(p=0.1, inplace=False)\n",
       "      )\n",
       "    )\n",
       "  )\n",
       "  (ln_f): LayerNorm((256,), eps=1e-05, elementwise_affine=True)\n",
       "  (head): Linear(in_features=256, out_features=50257, bias=True)\n",
       ")"
      ]
     },
     "execution_count": 8,
     "metadata": {},
     "output_type": "execute_result"
    }
   ],
   "source": [
    "# Parámetros\n",
    "device = \"cuda\" if torch.cuda.is_available() else \"cpu\"\n",
    "vocab_model = \"gpt2\"\n",
    "model_path = \"../checkpoints/minitransformer.pt\"\n",
    "max_tokens = 128\n",
    "num_samples = 5\n",
    "\n",
    "# Tokenizer\n",
    "tokenizer = AutoTokenizer.from_pretrained(vocab_model)\n",
    "tokenizer.pad_token = tokenizer.eos_token\n",
    "\n",
    "# Modelo\n",
    "model = MiniTransformerLM(\n",
    "    vocab_size=tokenizer.vocab_size,\n",
    "    d_model=256,\n",
    "    n_heads=4,\n",
    "    n_layers=4,\n",
    "    max_len=max_tokens\n",
    ").to(device)\n",
    "model.load_state_dict(torch.load(model_path, map_location=device))\n",
    "model.eval()\n"
   ]
  },
  {
   "cell_type": "code",
   "execution_count": null,
   "id": "4754dddd",
   "metadata": {},
   "outputs": [],
   "source": [
    "# Función de generación autoregresiva\n",
    "def generar_texto(prompt=\"\", max_len=100):\n",
    "    if not prompt.strip():\n",
    "        prompt = tokenizer.eos_token \n",
    "    \n",
    "    ids = tokenizer.encode(prompt, return_tensors=\"pt\").to(device).long()\n",
    "    for _ in range(max_len):\n",
    "        attn_mask = torch.ones_like(ids)\n",
    "        with torch.no_grad():\n",
    "            logits = model(ids, attention_mask=attn_mask)\n",
    "        next_token = torch.argmax(logits[:, -1, :], dim=-1).unsqueeze(0)\n",
    "        ids = torch.cat([ids, next_token], dim=1)\n",
    "    return tokenizer.decode(ids[0], skip_special_tokens=True)\n",
    "\n",
    "# Métricas de diversidad\n",
    "def distinct_n(seqs, n):\n",
    "    total_ngrams = 0\n",
    "    unique_ngrams = set()\n",
    "    for text in seqs:\n",
    "        tokens = text.split()\n",
    "        ngrams = zip(*[tokens[i:] for i in range(n)])\n",
    "        ngrams = list(ngrams)\n",
    "        total_ngrams += len(ngrams)\n",
    "        unique_ngrams.update(ngrams)\n",
    "    return len(unique_ngrams) / total_ngrams if total_ngrams > 0 else 0\n",
    "\n"
   ]
  },
  {
   "cell_type": "code",
   "execution_count": 14,
   "id": "1524959e",
   "metadata": {},
   "outputs": [
    {
     "name": "stderr",
     "output_type": "stream",
     "text": [
      "/mnt/data/Documentos/nlp-proyecto05/.venv/lib/python3.10/site-packages/torch/nn/modules/transformer.py:505: UserWarning: The PyTorch API of nested tensors is in prototype stage and will change in the near future. We recommend specifying layout=torch.jagged when constructing a nested tensor, as this layout receives active development, has better operator coverage, and works with torch.compile. (Triggered internally at /pytorch/aten/src/ATen/NestedTensorImpl.cpp:178.)\n",
      "  output = torch._nested_tensor_from_mask(\n"
     ]
    },
    {
     "name": "stdout",
     "output_type": "stream",
     "text": [
      "------------------------------\n",
      "................................................................................................................................\n",
      "------------------------------\n",
      "................................................................................................................................\n",
      "------------------------------\n",
      "................................................................................................................................\n",
      "------------------------------\n",
      "................................................................................................................................\n",
      "------------------------------\n",
      "................................................................................................................................\n",
      "\n",
      "Métricas de diversidad:\n",
      "Distinct-1: 0.2000\n",
      "Distinct-2: 0.0000\n"
     ]
    }
   ],
   "source": [
    "# Generar muestras\n",
    "resultados = []\n",
    "for _ in range(num_samples):\n",
    "    texto = generar_texto(\"\", max_len=max_tokens)\n",
    "    print(\"-\" * 30)\n",
    "    print(texto)\n",
    "    resultados.append(texto)\n",
    "\n",
    "# Calcular diversidad\n",
    "d1 = distinct_n(resultados, 1)\n",
    "d2 = distinct_n(resultados, 2)\n",
    "print(\"\\nMétricas de diversidad:\")\n",
    "print(f\"Distinct-1: {d1:.4f}\")\n",
    "print(f\"Distinct-2: {d2:.4f}\")"
   ]
  }
 ],
 "metadata": {
  "kernelspec": {
   "display_name": ".venv",
   "language": "python",
   "name": "python3"
  },
  "language_info": {
   "codemirror_mode": {
    "name": "ipython",
    "version": 3
   },
   "file_extension": ".py",
   "mimetype": "text/x-python",
   "name": "python",
   "nbconvert_exporter": "python",
   "pygments_lexer": "ipython3",
   "version": "3.10.12"
  }
 },
 "nbformat": 4,
 "nbformat_minor": 5
}
